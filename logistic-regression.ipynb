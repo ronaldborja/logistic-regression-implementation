{
 "cells": [
  {
   "cell_type": "markdown",
   "id": "6298464e",
   "metadata": {},
   "source": [
    "# Implementación Regresión Logística\n",
    "**Autor: Ronald Borja Román**"
   ]
  },
  {
   "cell_type": "code",
   "execution_count": 2,
   "id": "96c5ee14",
   "metadata": {},
   "outputs": [],
   "source": [
    "import numpy as np \n",
    "import pandas as pd\n",
    "import matplotlib.pyplot as plt"
   ]
  },
  {
   "cell_type": "code",
   "execution_count": 3,
   "id": "cf4a1607",
   "metadata": {},
   "outputs": [],
   "source": [
    "import numpy as np\n",
    "\n",
    "# Definición del modelo de regresión logistica. \n",
    "class LogisticRegressionModel:\n",
    "    \n",
    "    # Constructor -> Atributos importantes del modelo \n",
    "    def __init__(self, lr=0.0015, epochs=1000):\n",
    "        self.lr = lr\n",
    "        self.epochs = epochs\n",
    "        self.W = None\n",
    "        self.B = None\n",
    "        self.cost_history = []\n",
    "\n",
    "    # Función sigmoide -> Defn\n",
    "    def sigmoid(self, x):\n",
    "        return 1 / (1 + np.exp(-x))\n",
    "\n",
    "    # Entrenamiento del modelo \n",
    "    def train(self, X, Y):\n",
    "        m = X.shape[1] # Numero de ejemplos \n",
    "        n = X.shape[0] # Numero de features \n",
    "        self.W = np.zeros((n, 1)) #Inicialización -> Vector de features \n",
    "        self.B = 0 #Inicialización -> Bias \n",
    "\n",
    "        # Se itera sobre el numero de epochs \n",
    "        for i in range(self.epochs):\n",
    "            Z = np.dot(self.W.T, X) + self.B #Se estima la función hipotesis \n",
    "            A = self.sigmoid(Z) #Se aplica la transformación sigmoidea -> P(X)\n",
    "\n",
    "            cost = -(1/m) * np.sum(Y*np.log(A) + (1-Y)*np.log(1-A)) #Cross-Entropy\n",
    "            dW = (1/m) * np.dot(A - Y, X.T) #Derivada con respecto a los pesos  \n",
    "            dB = (1/m) * np.sum(A - Y) #Derivada con respecto al bias\n",
    "\n",
    "            # Actualización de parametros \n",
    "            self.W = self.W - self.lr * dW.T\n",
    "            self.B = self.B - self.lr * dB\n",
    "\n",
    "            # Evolución de la función de costo \n",
    "            self.cost_history.append(cost)\n",
    "\n",
    "            if i % (self.epochs // 10) == 0:\n",
    "                print(f\"El costo después de {i} iteraciones es: {cost}\")\n",
    "        \n",
    "        return self.W, self.B, self.cost_history"
   ]
  }
 ],
 "metadata": {
  "kernelspec": {
   "display_name": "Python 3 (ipykernel)",
   "language": "python",
   "name": "python3"
  },
  "language_info": {
   "codemirror_mode": {
    "name": "ipython",
    "version": 3
   },
   "file_extension": ".py",
   "mimetype": "text/x-python",
   "name": "python",
   "nbconvert_exporter": "python",
   "pygments_lexer": "ipython3",
   "version": "3.11.5"
  }
 },
 "nbformat": 4,
 "nbformat_minor": 5
}
